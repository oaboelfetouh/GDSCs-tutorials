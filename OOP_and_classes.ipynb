{
  "nbformat": 4,
  "nbformat_minor": 0,
  "metadata": {
    "colab": {
      "name": "OOP and classes.ipynb",
      "provenance": [],
      "collapsed_sections": [
        "gNoELHWiH6k3",
        "YkVKZQy7K828",
        "nAUP0oSlSXxe",
        "eKR70zDebLNQ",
        "cJBd2aZlhD00"
      ],
      "authorship_tag": "ABX9TyMVPJVtSTAdEFmkEOYh2x5v"
    },
    "kernelspec": {
      "name": "python3",
      "display_name": "Python 3"
    },
    "language_info": {
      "name": "python"
    }
  },
  "cells": [
    {
      "cell_type": "markdown",
      "metadata": {
        "id": "gNoELHWiH6k3"
      },
      "source": [
        "# **Hello World with Object Oriented Programming**"
      ]
    },
    {
      "cell_type": "code",
      "metadata": {
        "id": "4vAXak0OV4VN"
      },
      "source": [
        "class Book:\n",
        "  def __init__(self,title, author, page, price):\n",
        "    self.title = title\n",
        "    self.author = author\n",
        "    self.page = page\n",
        "    self.price = price\n",
        "\n",
        "\n",
        "OmarsBook = Book('omar', 'omar', 300, 50)"
      ],
      "execution_count": null,
      "outputs": []
    },
    {
      "cell_type": "code",
      "metadata": {
        "id": "pnatgUl2oOu9"
      },
      "source": [
        "class Magazine:\n",
        "  def __init__(self, title, publisher, price, period):\n",
        "    self.title = title\n",
        "    self.publisher = publisher\n",
        "    self.price = price\n",
        "    self.period = period #int days\n",
        "\n",
        "OmarsMagazine = Magazine('omar', 'omar', 20, 15)"
      ],
      "execution_count": null,
      "outputs": []
    },
    {
      "cell_type": "code",
      "metadata": {
        "colab": {
          "base_uri": "https://localhost:8080/",
          "height": 37
        },
        "id": "qegx9uCWsNwv",
        "outputId": "4644175c-bf76-42b0-e9e6-5f7ca254bdc6"
      },
      "source": [
        "class Publications:\n",
        "  def __init__(self, title, price ):\n",
        "    \n",
        "    self.title = title\n",
        "    self.price = price\n",
        "\n",
        "class Book(Publications):\n",
        "  def __init__(self,title, author, page, price):\n",
        "    super().__init__(title, price)\n",
        "    self.page = page\n",
        "    self.author = author\n",
        "\n",
        "OmarsBook = Book('omar', 'omar', 300, 50)\n",
        "OmarsBook.title"
      ],
      "execution_count": null,
      "outputs": [
        {
          "output_type": "execute_result",
          "data": {
            "application/vnd.google.colaboratory.intrinsic+json": {
              "type": "string"
            },
            "text/plain": [
              "'omar'"
            ]
          },
          "metadata": {},
          "execution_count": 63
        }
      ]
    },
    {
      "cell_type": "markdown",
      "metadata": {
        "id": "YkVKZQy7K828"
      },
      "source": [
        "# **IHERITANCE EXAPLES**"
      ]
    },
    {
      "cell_type": "code",
      "metadata": {
        "id": "m5XgrfMRLD2D"
      },
      "source": [
        "class Polygon:\n",
        "  def __init__(self,sides,name,size = 100):\n",
        "    self.sides = sides\n",
        "    self.name = name\n",
        "    self.size = size\n",
        "    self.iangle = (self.sides - 2)* 180\n",
        "    self.indangle = 180 - (self.iangle / self.sides)\n",
        "\n",
        "  def draw(self, size):\n",
        "    \n",
        "    for i in range(self.sides):\n",
        "      turtle.forward(self.size) # CAUTION\n",
        "      turtle.right(self.indangle)\n",
        "    turtle.done()\n",
        "  def draw(self, ily = 'haha'):\n",
        "    print(ily * 4)\n",
        "\n",
        "class Square(Polygon):\n",
        "  def __init__(self, size = 100):\n",
        "    super().__init__(4,'sqaure', size)"
      ],
      "execution_count": null,
      "outputs": []
    },
    {
      "cell_type": "code",
      "metadata": {
        "colab": {
          "base_uri": "https://localhost:8080/"
        },
        "id": "Pb48D_zyPkyz",
        "outputId": "b68ceb9b-f220-4a59-fd3a-ee7b0f20217c"
      },
      "source": [
        "square = Square()\n",
        "square.size"
      ],
      "execution_count": null,
      "outputs": [
        {
          "output_type": "execute_result",
          "data": {
            "text/plain": [
              "100"
            ]
          },
          "metadata": {},
          "execution_count": 11
        }
      ]
    },
    {
      "cell_type": "code",
      "metadata": {
        "colab": {
          "base_uri": "https://localhost:8080/"
        },
        "id": "F9FfgMyaQnoG",
        "outputId": "47399dbd-c5fc-4705-c1a2-591d1ad55345"
      },
      "source": [
        "square.draw(ily = 'hhh')"
      ],
      "execution_count": null,
      "outputs": [
        {
          "output_type": "stream",
          "name": "stdout",
          "text": [
            "hhhhhhhhhhhh\n"
          ]
        }
      ]
    },
    {
      "cell_type": "code",
      "metadata": {
        "id": "fZW11uCLRWjH"
      },
      "source": [
        "class Polygon:\n",
        "  def __init__(self,sides,name,size = 100):\n",
        "    self.sides = sides\n",
        "    self.name = name\n",
        "    self.size = size\n",
        "    self.iangle = (self.sides - 2)* 180\n",
        "    self.indangle = 180 - (self.iangle / self.sides)\n",
        "\n",
        "  def draw(self, size):\n",
        "    \n",
        "    for i in range(self.sides):\n",
        "      turtle.forward(self.size) # CAUTION\n",
        "      turtle.right(self.indangle)\n",
        "    turtle.done()\n",
        "  def draw(self, ily = 'haha'):\n",
        "    print(ily * 4)\n",
        "\n",
        "class Square(Polygon):\n",
        "  def __init__(self, size = 100):\n",
        "    super().__init__(4,'sqaure', size)\n",
        "  def draw(self, d7k):\n",
        "    print(d7k * 1)"
      ],
      "execution_count": null,
      "outputs": []
    },
    {
      "cell_type": "code",
      "metadata": {
        "colab": {
          "base_uri": "https://localhost:8080/"
        },
        "id": "fBJlySzfSFjH",
        "outputId": "cb5c7545-657b-47dc-a966-2fc6c1e644aa"
      },
      "source": [
        "square = Square()\n",
        "square.size"
      ],
      "execution_count": null,
      "outputs": [
        {
          "output_type": "execute_result",
          "data": {
            "text/plain": [
              "100"
            ]
          },
          "metadata": {},
          "execution_count": 14
        }
      ]
    },
    {
      "cell_type": "code",
      "metadata": {
        "colab": {
          "base_uri": "https://localhost:8080/"
        },
        "id": "tbASQ8SNSHLs",
        "outputId": "fe086475-d79f-4666-9287-9c4c5818ba17"
      },
      "source": [
        "square.draw(d7k = 'hhh')"
      ],
      "execution_count": null,
      "outputs": [
        {
          "output_type": "stream",
          "name": "stdout",
          "text": [
            "hhh\n"
          ]
        }
      ]
    },
    {
      "cell_type": "markdown",
      "metadata": {
        "id": "nAUP0oSlSXxe"
      },
      "source": [
        "# **Ploting points and playing sounds with classes**"
      ]
    },
    {
      "cell_type": "code",
      "metadata": {
        "colab": {
          "base_uri": "https://localhost:8080/",
          "height": 323
        },
        "id": "rTUwG2-rSdmU",
        "outputId": "646678d6-2838-4e0e-ef32-c86fbcfca6ea"
      },
      "source": [
        "import matplotlib as plt\n",
        "import seaborn as sns\n",
        "\n",
        "class Point:\n",
        "  def __init__(self, x,y, hidden = False):\n",
        "    self.x = x\n",
        "    self.y = y\n",
        "    self.hidden = hidden\n",
        "    \n",
        "\n",
        "class Graph:\n",
        "  def _load_as_points(self, x,y):\n",
        "    self.points = [Point(x,y) for x,y in zip(x[:len(x)//2],y[:len(y)//2])]\n",
        "    self.points.append\n",
        "  def __init__(self, x,y):\n",
        "    self._load_as_points(x, y) \n",
        "  def ploteee(self):\n",
        "    x = [point.x for point in self.points if not point.hidden]\n",
        "    y = [point.y for point in self.points if not point.hidden]\n",
        "    sns.scatterplot(x, y)\n",
        "\n",
        "\n",
        "\n",
        "point1 = Graph([1],[1])\n",
        "point1.ploteee()"
      ],
      "execution_count": null,
      "outputs": [
        {
          "output_type": "stream",
          "name": "stderr",
          "text": [
            "/usr/local/lib/python3.7/dist-packages/seaborn/_decorators.py:43: FutureWarning: Pass the following variables as keyword args: x, y. From version 0.12, the only valid positional argument will be `data`, and passing other arguments without an explicit keyword will result in an error or misinterpretation.\n",
            "  FutureWarning\n"
          ]
        },
        {
          "output_type": "display_data",
          "data": {
            "image/png": "[encoded data removed]",
            "text/plain": [
              "<Figure size 432x288 with 1 Axes>"
            ]
          },
          "metadata": {
            "needs_background": "light"
          }
        }
      ]
    },
    {
      "cell_type": "code",
      "metadata": {
        "colab": {
          "base_uri": "https://localhost:8080/"
        },
        "id": "W6jPe56FYMun",
        "outputId": "1492e0bc-c6bb-452c-dfc4-b73ca9de5e74"
      },
      "source": [
        "!wget https://wavlist.com/wav/cat-kitten2.wav"
      ],
      "execution_count": null,
      "outputs": [
        {
          "output_type": "stream",
          "name": "stdout",
          "text": [
            "--2021-09-11 01:06:55--  https://wavlist.com/wav/cat-kitten2.wav\n",
            "Resolving wavlist.com (wavlist.com)... 85.13.143.118\n",
            "Connecting to wavlist.com (wavlist.com)|85.13.143.118|:443... connected.\n",
            "HTTP request sent, awaiting response... 200 OK\n",
            "Length: 11914 (12K) [audio/x-wav]\n",
            "Saving to: ‘cat-kitten2.wav’\n",
            "\n",
            "cat-kitten2.wav     100%[===================>]  11.63K  --.-KB/s    in 0s      \n",
            "\n",
            "2021-09-11 01:06:55 (93.3 MB/s) - ‘cat-kitten2.wav’ saved [11914/11914]\n",
            "\n"
          ]
        }
      ]
    },
    {
      "cell_type": "code",
      "metadata": {
        "id": "ldmzhEURS6Ve"
      },
      "source": [
        "from IPython.display import Audio\n",
        "class Animal:\n",
        "  def __init__(self):\n",
        "    self.alive = True\n",
        "    self.extinct = False"
      ],
      "execution_count": null,
      "outputs": []
    },
    {
      "cell_type": "code",
      "metadata": {
        "id": "OWA5tBctXqI1"
      },
      "source": [
        "import IPython\n",
        "class Cat(Animal):\n",
        "  def __init__(self):\n",
        "    self.cat_sound = 'cat-kitten2.wav'\n",
        "    super().__init__()\n",
        "  def meow(self):\n",
        "    display(IPython.display.Audio(self.cat_sound, autoplay=True))\n",
        "\n"
      ],
      "execution_count": null,
      "outputs": []
    },
    {
      "cell_type": "code",
      "metadata": {
        "colab": {
          "base_uri": "https://localhost:8080/",
          "height": 69
        },
        "id": "3ifxhApOXz8U",
        "outputId": "1f38b021-6d8a-4c5a-f5fd-45b1159aca7c"
      },
      "source": [
        "meshmesh = Cat()\n",
        "meshmesh.meow()\n",
        "meshmesh.alive"
      ],
      "execution_count": null,
      "outputs": [
        {
          "output_type": "display_data",
          "data": {
            "text/html": [
              "\n",
              "                <audio controls=\"controls\" autoplay=\"autoplay\">\n",
              "                    <source src=\"data:audio/x-wav;base64,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\" type=\"audio/x-wav\" />\n",
              "                    Your browser does not support the audio element.\n",
              "                </audio>\n",
              "              "
            ],
            "text/plain": [
              "<IPython.lib.display.Audio object>"
            ]
          },
          "metadata": {}
        },
        {
          "output_type": "execute_result",
          "data": {
            "text/plain": [
              "True"
            ]
          },
          "metadata": {},
          "execution_count": 10
        }
      ]
    },
    {
      "cell_type": "markdown",
      "metadata": {
        "id": "eKR70zDebLNQ"
      },
      "source": [
        "# **Some really weird stuff about OOP**"
      ]
    },
    {
      "cell_type": "code",
      "metadata": {
        "id": "hYwUDqV8bPGU",
        "colab": {
          "base_uri": "https://localhost:8080/"
        },
        "outputId": "16d9985b-f782-4c2b-e87b-376791ef381b"
      },
      "source": [
        "# Absatract base classes\n",
        "from abc import ABC, abstractmethod\n",
        "\n",
        "# you cant create any instance of this class + enforce some constrains\n",
        "class GraphicShapes(ABC): \n",
        "  def __init__(self):\n",
        "    super().__init__() #inherite from the ABC -which i dont know what does it mean-\n",
        "  \n",
        "  @abstractmethod #then you have to over-write this function in each object that inherite from this class \n",
        "  def calcarea(self):\n",
        "    pass\n",
        "\n",
        "\n",
        "try:\n",
        "  instance_ = GraphicShapes()\n",
        "except:\n",
        "  print('you got an error!')\n",
        "  #cant instantiate abstract class GraphicShapes with abstract method calcarea"
      ],
      "execution_count": null,
      "outputs": [
        {
          "output_type": "stream",
          "name": "stdout",
          "text": [
            "you got an error!\n"
          ]
        }
      ]
    },
    {
      "cell_type": "code",
      "metadata": {
        "colab": {
          "base_uri": "https://localhost:8080/"
        },
        "id": "MS1tjtto3Ir3",
        "outputId": "a88dc78f-c00e-40d8-dda5-bf3f6b315548"
      },
      "source": [
        "class Circle(GraphicShapes):\n",
        "  def __init__(self, raduis):\n",
        "    super().__init__()\n",
        "    self.raduis = raduis\n",
        "    \n",
        "  def calcarea(self): #unless we over-write this function it will return an error!\n",
        "    return ((self.raduis**2)*3.14)\n",
        "\n",
        "\n",
        "circle = Circle(raduis = 2) \n",
        "circle.calcarea()"
      ],
      "execution_count": null,
      "outputs": [
        {
          "output_type": "execute_result",
          "data": {
            "text/plain": [
              "12.56"
            ]
          },
          "metadata": {},
          "execution_count": 49
        }
      ]
    },
    {
      "cell_type": "code",
      "metadata": {
        "colab": {
          "base_uri": "https://localhost:8080/"
        },
        "id": "v1l4va-t4Fn-",
        "outputId": "b9279e84-60bb-46f2-e247-3c3002275571"
      },
      "source": [
        "class Square(GraphicShapes):\n",
        "  def __init__(self, side):\n",
        "    super().__init__()\n",
        "    self.side = side\n",
        "\n",
        "  def calcarea(self): #unless we over-write this function it will return an error!\n",
        "    return (self.side * self.side)\n",
        "\n",
        "\n",
        "square = Square(30)\n",
        "square.calcarea()"
      ],
      "execution_count": null,
      "outputs": [
        {
          "output_type": "execute_result",
          "data": {
            "text/plain": [
              "900"
            ]
          },
          "metadata": {},
          "execution_count": 51
        }
      ]
    },
    {
      "cell_type": "code",
      "metadata": {
        "colab": {
          "base_uri": "https://localhost:8080/"
        },
        "id": "8cmMhZkoITAB",
        "outputId": "a66fd9f6-e10a-457c-dd84-da36f8aed2ca"
      },
      "source": [
        "# Multible inhertitance\n",
        "class A:\n",
        "  def __init__(self):\n",
        "    super().__init__()\n",
        "    self.foo = 'foo'\n",
        "    self.name = 'class A'\n",
        "\n",
        "class B:\n",
        "  def __init__(self):\n",
        "    super().__init__()\n",
        "    self.bar = 'bar'\n",
        "    self.name = 'class B'\n",
        "\n",
        "class C (A,B): \n",
        "  def __init__(self):\n",
        "    super().__init__()\n",
        "\n",
        "  def showprops(self):\n",
        "    print(self.foo)\n",
        "    print(self.bar)\n",
        "    print(self.name) #the method resolution order.. it looks in class C then A then B!\n",
        "\n",
        "c = C()\n",
        "c.showprops() # class A apparently is the winner, cuz it is in the first\n",
        "print(C.__mro__) #shows the method resolution order!"
      ],
      "execution_count": null,
      "outputs": [
        {
          "output_type": "stream",
          "name": "stdout",
          "text": [
            "foo\n",
            "bar\n",
            "class A\n",
            "(<class '__main__.C'>, <class '__main__.A'>, <class '__main__.B'>, <class 'object'>)\n"
          ]
        }
      ]
    },
    {
      "cell_type": "code",
      "metadata": {
        "colab": {
          "base_uri": "https://localhost:8080/"
        },
        "id": "-KCSKsePKb6u",
        "outputId": "51433138-2fb1-43b7-eff6-84dd00e8a647"
      },
      "source": [
        "#Interfaces (multible Inheritance with abstract base class)\n",
        "from abc import ABC , abstractclassmethod\n",
        "\n",
        "class GraphicShapes(ABC): \n",
        "  def __init__(self):\n",
        "    super().__init__() \n",
        "  \n",
        "  @abstractmethod \n",
        "  def calcarea(self):\n",
        "    pass\n",
        "\n",
        "class Circle(GraphicShapes):\n",
        "  def __init__(self, raduis):\n",
        "    super().__init__()\n",
        "    self.raduis = raduis\n",
        "    \n",
        "  def calcarea(self): \n",
        "    return ((self.raduis**2)*3.14)\n",
        "\n",
        "c = Circle(10)\n",
        "print(c.calcarea())"
      ],
      "execution_count": null,
      "outputs": [
        {
          "output_type": "stream",
          "name": "stdout",
          "text": [
            "314.0\n"
          ]
        }
      ]
    },
    {
      "cell_type": "code",
      "metadata": {
        "colab": {
          "base_uri": "https://localhost:8080/"
        },
        "id": "gw7DjV_nM0JG",
        "outputId": "bec627ef-9e7b-4e38-c2cc-629581b80c5f"
      },
      "source": [
        "#Using abstract base classes to implement interfaces\n",
        "\n",
        "class JSONify(ABC):\n",
        "  @abstractclassmethod\n",
        "  def toJSON(self):\n",
        "      pass\n",
        "\n",
        "\n",
        "class Circle(GraphicShapes, JSONify):\n",
        "  def __init__(self, raduis):\n",
        "    super().__init__()\n",
        "    self.raduis = raduis\n",
        "    \n",
        "  def calcarea(self): \n",
        "    return ((self.raduis**2)*3.14)\n",
        "  \n",
        "  def toJSON(self):\n",
        "    return f\"{{ \\\" Circle \\\" : {str(self.calcarea())} }}\"\n",
        "\n",
        "c = Circle(10)\n",
        "print(c.calcarea())\n",
        "print(c.toJSON())\n",
        "\n",
        "#it just indicates that this class has the ability to do sth\n",
        "#in this example we just indicated that the Circle class has the ability to represent itself as JSON\n",
        "# we didnt assign that functionality to the GraphicShapes class to make it more flixable!  "
      ],
      "execution_count": null,
      "outputs": [
        {
          "output_type": "stream",
          "name": "stdout",
          "text": [
            "314.0\n",
            "{ \" Circle \" : 314.0 }\n"
          ]
        }
      ]
    },
    {
      "cell_type": "markdown",
      "metadata": {
        "id": "cJBd2aZlhD00"
      },
      "source": [
        "# **Understanding Composition**"
      ]
    },
    {
      "cell_type": "code",
      "metadata": {
        "colab": {
          "base_uri": "https://localhost:8080/"
        },
        "id": "TuJOmSoehJoz",
        "outputId": "2b896deb-a130-4dd3-8f05-eadee9f7477c"
      },
      "source": [
        "#Before Composition\n",
        "class Book:\n",
        "  def __init__(self, title, price, authorfname, authorlname):\n",
        "    self.title = title\n",
        "    self.price = price\n",
        "\n",
        "    self.authorfname = authorfname\n",
        "    self.authorlname = authorlname\n",
        "\n",
        "    self. chapters = []\n",
        "  def add_chapters(self, name, pages):\n",
        "    self.chapters.append((name,pages))\n",
        "\n",
        "\n",
        "b1 = Book('War and Peace', 40.0,'omar','aboelfetouh')\n",
        "\n",
        "b1.add_chapters('kill this shit!', 500)\n",
        "b1.add_chapters('Killing this shit', 200)\n",
        "b1.add_chapters('regretting killing this shit..', 400)\n",
        "\n",
        "print(b1.title)"
      ],
      "execution_count": null,
      "outputs": [
        {
          "output_type": "stream",
          "name": "stdout",
          "text": [
            "War and Peace\n"
          ]
        }
      ]
    },
    {
      "cell_type": "code",
      "metadata": {
        "colab": {
          "base_uri": "https://localhost:8080/"
        },
        "id": "cU9-1G0PiFr6",
        "outputId": "cebf587b-0d1c-4992-d8b1-329cfbe871be"
      },
      "source": [
        "#After Composition - Composition linking classes together\n",
        "class Book:\n",
        "  def __init__(self, title, price, author = None):\n",
        "    self.title = title\n",
        "    self.price = price\n",
        "\n",
        "    self.author = author\n",
        "\n",
        "    self. chapters = []\n",
        "\n",
        "  def add_chapters(self, chapter):\n",
        "    self.chapters.append(chapter)\n",
        "  \n",
        "  def book_count(self):\n",
        "    result = 0 \n",
        "    for ch in self.chapters :\n",
        "      result += ch.pages\n",
        "    return result\n",
        "\n",
        "\n",
        "class Author:\n",
        "  def __init__(self, fname, lname):\n",
        "    self.fname = fname\n",
        "    self.lname = lname\n",
        "\n",
        "  def __str__(self):\n",
        "    return f\"{self.fname} {self.lname}\"\n",
        "\n",
        "\n",
        "class Chapter:\n",
        "  def __init__(self, name, pages):\n",
        "    self.name = name\n",
        "    self.pages = pages\n",
        "\n",
        "\n",
        "author = Author('omar', 'aboelfetouh')\n",
        "b1 = Book('War and Peace', 40.0, author)\n",
        "\n",
        "ch1 = Chapter('kill this shit!', 500)\n",
        "ch2 = Chapter('Killing this shit', 200)\n",
        "ch3 = Chapter('regretting killing this shit..', 400)\n",
        "b1.add_chapters(ch1)\n",
        "b1.add_chapters(ch2)\n",
        "b1.add_chapters(ch3)\n",
        "\n",
        "b1.book_count()\n",
        "#print(b1.title)"
      ],
      "execution_count": null,
      "outputs": [
        {
          "output_type": "execute_result",
          "data": {
            "text/plain": [
              "1100"
            ]
          },
          "metadata": {},
          "execution_count": 87
        }
      ]
    },
    {
      "cell_type": "markdown",
      "metadata": {
        "id": "isgub54V55ql"
      },
      "source": [
        "# **Magic Methods**"
      ]
    },
    {
      "cell_type": "code",
      "metadata": {
        "colab": {
          "base_uri": "https://localhost:8080/"
        },
        "id": "SS3vJoO46AAH",
        "outputId": "d4932210-ead4-4f55-ff49-369d00216c67"
      },
      "source": [
        "#String Representation - not final\n",
        "class Book:\n",
        "  def __init__(self, title, author, price):\n",
        "    super().__init__()\n",
        "    self.title = title\n",
        "    self.author = author\n",
        "    self.price = price\n",
        "\n",
        "  #TODO : use the string Method to return a str\n",
        "\n",
        "\n",
        "  #TODO : use the __repr__ Method to return an obj representation\n",
        "\n",
        "\n",
        "b1 = Book('sunny day', 'omar', 300)\n",
        "b2 = Book('moony day', 'omar', 200)\n",
        "\n",
        "print(b1)\n",
        "print(b2)"
      ],
      "execution_count": null,
      "outputs": [
        {
          "output_type": "stream",
          "name": "stdout",
          "text": [
            "<__main__.Book object at 0x7f564b181d50>\n",
            "<__main__.Book object at 0x7f564b181fd0>\n"
          ]
        }
      ]
    },
    {
      "cell_type": "code",
      "metadata": {
        "colab": {
          "base_uri": "https://localhost:8080/"
        },
        "id": "G0f5FjcF74Td",
        "outputId": "1616ff0e-bef3-4b2a-b673-9de952b069ad"
      },
      "source": [
        "#String Representation - final\n",
        "class Book:\n",
        "  def __init__(self, title, author, price):\n",
        "    super().__init__()\n",
        "    self.title = title\n",
        "    self.author = author\n",
        "    self.price = price\n",
        "\n",
        "  #TODO : use the string Method to return a str\n",
        "  def __str__(self):\n",
        "    return f\"{self.title} by {self.author} and it costs {self.price}\"\n",
        "\n",
        "\n",
        "  #TODO : use the __repr__ Method to return an obj representation\n",
        "  def __repr__(self):\n",
        "    return f\"title = {self.title}, author = {self.author}, price = {self.price}\"\n",
        "\n",
        "\n",
        "\n",
        "b1 = Book('Sunny Day', 'Omar', 300)\n",
        "b2 = Book('Moony Day', 'Omar', 200)\n",
        "\n",
        "print(b1)\n",
        "print(b2)\n",
        "print()\n",
        "\n",
        "print(str(b1))\n",
        "print(repr(b2))"
      ],
      "execution_count": null,
      "outputs": [
        {
          "output_type": "stream",
          "name": "stdout",
          "text": [
            "Sunny Day by Omar and it costs 300\n",
            "Moony Day by Omar and it costs 200\n",
            "\n",
            "Sunny Day by Omar and it costs 300\n",
            "title = Moony Day, author = Omar, price = 200\n"
          ]
        }
      ]
    },
    {
      "cell_type": "code",
      "metadata": {
        "colab": {
          "base_uri": "https://localhost:8080/"
        },
        "id": "rgKdsPDi9WOe",
        "outputId": "87440045-e7b2-4efb-e181-14216c849eeb"
      },
      "source": [
        "#Equality and Comparison\n",
        "class Book:\n",
        "  def __init__(self, title, author, price):\n",
        "    super().__init__()\n",
        "    self.title = title\n",
        "    self.author = author\n",
        "    self.price = price\n",
        "\n",
        "  #TODO : use the __eq__ Method checks for equality between 2 objects \n",
        "  def __eq__(self, value):\n",
        "    if not isinstance(value, Book) : raise ValueError('Cant compare book to a non-book')\n",
        "    return  (self.title == value.title) and (self.author == value.author) and (self.price == value.price)\n",
        "\n",
        "  #TODO : use the __ge__ Method stablishes >= relationship with another object\n",
        "  def __ge__(self, value):\n",
        "    if not isinstance(value, Book) : raise ValueError('Cant compare book to a non-book')\n",
        "    return self.price >= value.price\n",
        "\n",
        "  #TODP : use the __lt__ Method stablishes < relationship with another object\n",
        "  def __lt__(self, value):\n",
        "    if not isinstance(value, Book) : raise ValueError('Cant compare book to a non-book')\n",
        "    return self.price <= value.price\n",
        "\n",
        "\n",
        "\n",
        "b1 = Book('Sunny Day', 'Omar', 300)\n",
        "b2 = Book('Moony Day', 'Omar', 200)\n",
        "b3 = Book('Sunny Day', 'Omar', 300)\n",
        "b4 = Book('evening', 'Omar', 50)\n",
        "# b1 and b3 contain the same information\n",
        "\n",
        "#TODO : chack for quality\n",
        "print(b1 == b3, end = ', ')  \n",
        "print(b1 == b2)\n",
        "\n",
        "#TODO : check for greater and lesser values\n",
        "print(b2 >= b1, end = ', ')\n",
        "print(b2 < b1)\n",
        "\n",
        "#TODO : now we can sort them too!\n",
        "books = [b3, b1, b2, b4]\n",
        "books.sort(reverse = True)\n",
        "print([book.title for book in books])"
      ],
      "execution_count": null,
      "outputs": [
        {
          "output_type": "stream",
          "name": "stdout",
          "text": [
            "True, False\n",
            "False, True\n",
            "['Sunny Day', 'Sunny Day', 'Moony Day', 'evening']\n"
          ]
        }
      ]
    },
    {
      "cell_type": "code",
      "metadata": {
        "id": "S9EWn2SsEEGi"
      },
      "source": [
        "#Attribute Access\n"
      ],
      "execution_count": null,
      "outputs": []
    },
    {
      "cell_type": "code",
      "metadata": {
        "colab": {
          "base_uri": "https://localhost:8080/"
        },
        "id": "k9EVxeXpANHX",
        "outputId": "23209bfe-57bc-4c09-e4b8-777e9761fa29"
      },
      "source": [
        "class Book:\n",
        "  def __init__(self, title, author, price):\n",
        "    self.title = title\n",
        "    self.author = author\n",
        "    self.price = price\n",
        "\n",
        "  def __str__(self):\n",
        "    return f\"{self.title} by {self.author}, costs {self.price}\"\n",
        "\n",
        "  #The __call__ method can be used to call the object like a function\n",
        "  def __call__(self, title, author, price):\n",
        "    self.title = title\n",
        "    self.author = author\n",
        "    self.price = price\n",
        "    \n",
        "\n",
        "\n",
        "b1 = Book('omar', 'omar', 33)\n",
        "b1.__str__()\n",
        "\n",
        "#we changed the object's attributes by just calling it!\n",
        "b1('anna', 'omar', 3)\n",
        "print(b1)"
      ],
      "execution_count": 10,
      "outputs": [
        {
          "output_type": "stream",
          "name": "stdout",
          "text": [
            "anna by omar, costs 3\n"
          ]
        }
      ]
    },
    {
      "cell_type": "markdown",
      "metadata": {
        "id": "ycYFJIxyGSi7"
      },
      "source": [
        "# **DataClass** "
      ]
    },
    {
      "cell_type": "code",
      "metadata": {
        "colab": {
          "base_uri": "https://localhost:8080/",
          "height": 88
        },
        "id": "YDR0D1BUCuYP",
        "outputId": "633be4b9-8c59-463c-cd90-19ffc098467b"
      },
      "source": [
        "from dataclasses import dataclass\n",
        "\n",
        "@dataclass\n",
        "class Book:\n",
        "  title : str\n",
        "  author : str\n",
        "  pages : int\n",
        "  price : float\n",
        "  #keeping with python's flixability, their types arent actually enforced\n",
        "  #the parameter passed in the same order are they are\n",
        "\n",
        "  def bookinfo(self):\n",
        "    return f\"{self.author} haha\"\n",
        "\n",
        "\n",
        "b1 = Book('hi there', 'omar', 200, 30)\n",
        "b2 = Book('hi there', 'omar', 200, 30)\n",
        "type(b1.price) #they type isnt actually enforced\n",
        "\n",
        "print((b1) == (b2)) #TRUE! #id(b1) == id(b2) FALSE\n",
        "# the data classes implement the __eq__ method by default\n",
        "\n",
        "print(b1) \n",
        "# the data classes implement the __rper__ method by default\n",
        "\n",
        "#change some fields\n",
        "b1.title = 'bye there' #it changes in only b1, not b2\n",
        "print(b1)\n",
        "\n",
        "#implementing methods just like normal classes\n",
        "b1.bookinfo()"
      ],
      "execution_count": 29,
      "outputs": [
        {
          "output_type": "stream",
          "name": "stdout",
          "text": [
            "True\n",
            "Book(title='hi there', author='omar', pages=200, price=30)\n",
            "Book(title='bye there', author='omar', pages=200, price=30)\n"
          ]
        },
        {
          "output_type": "execute_result",
          "data": {
            "application/vnd.google.colaboratory.intrinsic+json": {
              "type": "string"
            },
            "text/plain": [
              "'omar haha'"
            ]
          },
          "metadata": {},
          "execution_count": 29
        }
      ]
    },
    {
      "cell_type": "code",
      "metadata": {
        "colab": {
          "base_uri": "https://localhost:8080/",
          "height": 37
        },
        "id": "QsibNe75Gwpb",
        "outputId": "8526a4b8-a1d6-44c9-b32b-7352537d9285"
      },
      "source": [
        "from dataclasses import dataclass\n",
        "\n",
        "@dataclass\n",
        "class Book:\n",
        "  title : str\n",
        "  author : str\n",
        "  pages : int\n",
        "  price : float\n",
        "\n",
        "  #after the object has been initialized via built-in __init__ function\n",
        "  def __post_init__(self):\n",
        "    self.description = f\" \\\"{self.title}\\\" by {self.author}, contains {self.pages} pages\"\n",
        "\n",
        "  def bookinfo(self):\n",
        "    return f\"{self.author} haha\"\n",
        "\n",
        "b1 = Book('hi', 'omar', 400, 40)\n",
        "b1.description"
      ],
      "execution_count": 34,
      "outputs": [
        {
          "output_type": "execute_result",
          "data": {
            "application/vnd.google.colaboratory.intrinsic+json": {
              "type": "string"
            },
            "text/plain": [
              "' \"hi\" by omar, contains 400 pages'"
            ]
          },
          "metadata": {},
          "execution_count": 34
        }
      ]
    },
    {
      "cell_type": "code",
      "metadata": {
        "id": "qq7_Gx8GdbnU"
      },
      "source": [
        "from dataclasses import dataclass\n",
        "\n",
        "@dataclass\n",
        "class Book():\n",
        "  title : str # CAUTION : the attribute withput default value has to come first\n",
        "  author : str = \"Omar M. Aboelfetouh\" #default value"
      ],
      "execution_count": null,
      "outputs": []
    }
  ]
}