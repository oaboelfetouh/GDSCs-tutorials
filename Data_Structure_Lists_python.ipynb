{
  "nbformat": 4,
  "nbformat_minor": 0,
  "metadata": {
    "colab": {
      "name": "Data Structure: Lists python.ipynb",
      "provenance": [],
      "authorship_tag": "ABX9TyMB6G0U9HG+amFoqvyJPUGN",
      "include_colab_link": true
    },
    "kernelspec": {
      "name": "python3",
      "display_name": "Python 3"
    },
    "language_info": {
      "name": "python"
    }
  },
  "cells": [
    {
      "cell_type": "markdown",
      "metadata": {
        "id": "view-in-github",
        "colab_type": "text"
      },
      "source": [
        "<a href=\"https://colab.research.google.com/github/oaboelfetouh/tutorials/blob/main/Data_Structure_Lists_python.ipynb\" target=\"_parent\"><img src=\"https://colab.research.google.com/assets/colab-badge.svg\" alt=\"Open In Colab\"/></a>"
      ]
    },
    {
      "cell_type": "code",
      "metadata": {
        "id": "4zNi_5v7-zge",
        "colab": {
          "base_uri": "https://localhost:8080/"
        },
        "outputId": "8fd6592b-ee9d-40f7-ad9b-1f1ea117395f"
      },
      "source": [
        "list1 = [1,3,8,6,7]\n",
        "print(sum(list1))\n",
        "print(len(list1))"
      ],
      "execution_count": null,
      "outputs": [
        {
          "output_type": "stream",
          "name": "stdout",
          "text": [
            "25\n",
            "5\n"
          ]
        }
      ]
    },
    {
      "cell_type": "code",
      "metadata": {
        "colab": {
          "base_uri": "https://localhost:8080/"
        },
        "id": "0AWNkypyGXXr",
        "outputId": "560d6f57-e5df-48a8-9d80-e8737c1e0cdc"
      },
      "source": [
        "average = sum(list1) // len(list1)\n",
        "average"
      ],
      "execution_count": null,
      "outputs": [
        {
          "output_type": "execute_result",
          "data": {
            "text/plain": [
              "5"
            ]
          },
          "metadata": {},
          "execution_count": 3
        }
      ]
    },
    {
      "cell_type": "code",
      "metadata": {
        "colab": {
          "base_uri": "https://localhost:8080/"
        },
        "id": "rJEynoWhGhb-",
        "outputId": "a474314f-3aa0-423a-9b40-169141cda730"
      },
      "source": [
        "dinnerchoices = [['apple', 'orange', 'mango'], ['meat', 'beaf', 'ham']]\n",
        "dinnerchoices[0][1] #this is how to access multidimintional list\n",
        "\n",
        "dinnerchoices[0][2] = 'ahmed' # :D\n",
        "dinnerchoices"
      ],
      "execution_count": null,
      "outputs": [
        {
          "output_type": "execute_result",
          "data": {
            "text/plain": [
              "[['apple', 'orange', 'ahmed'], ['meat', 'beaf', 'ham']]"
            ]
          },
          "metadata": {},
          "execution_count": 10
        }
      ]
    },
    {
      "cell_type": "code",
      "metadata": {
        "colab": {
          "base_uri": "https://localhost:8080/",
          "height": 37
        },
        "id": "LQe3kOfhLObP",
        "outputId": "1a0998c7-ab4f-4592-8d9a-a3143cd49276"
      },
      "source": [
        "import numpy as np \n",
        "a = np.array(dinnerchoices)\n",
        "a[0,1] #this is how to access multidimintional array"
      ],
      "execution_count": null,
      "outputs": [
        {
          "output_type": "execute_result",
          "data": {
            "application/vnd.google.colaboratory.intrinsic+json": {
              "type": "string"
            },
            "text/plain": [
              "'orange'"
            ]
          },
          "metadata": {},
          "execution_count": 6
        }
      ]
    },
    {
      "cell_type": "code",
      "metadata": {
        "id": "XknjnzvgLRVP"
      },
      "source": [
        "list_1 = [1,2,3,4,5]\n",
        "list_1.append(5) #adding in the end\n",
        "list_1.insert(2,'omar') #insert(indix, value)"
      ],
      "execution_count": null,
      "outputs": []
    },
    {
      "cell_type": "code",
      "metadata": {
        "colab": {
          "base_uri": "https://localhost:8080/"
        },
        "id": "xfTJ22TBGtA_",
        "outputId": "a83d3129-eec7-4c23-db62-72d198ec71c6"
      },
      "source": [
        "list_1"
      ],
      "execution_count": null,
      "outputs": [
        {
          "output_type": "execute_result",
          "data": {
            "text/plain": [
              "[1, 2, 'omar', 3, 4, 5, 5]"
            ]
          },
          "metadata": {},
          "execution_count": 6
        }
      ]
    },
    {
      "cell_type": "code",
      "metadata": {
        "colab": {
          "base_uri": "https://localhost:8080/"
        },
        "id": "LIoEk4NRG-da",
        "outputId": "23a7de1b-c015-46c4-d78a-d4765ee629af"
      },
      "source": [
        "list_2 = [1,2,3,4]\n",
        "list_1.extend(list_2) #you can extend a list of any Iterable\n",
        "list_1"
      ],
      "execution_count": null,
      "outputs": [
        {
          "output_type": "execute_result",
          "data": {
            "text/plain": [
              "[1, 2, 'omar', 3, 4, 5, 5, 1, 2, 3, 4, 1, 2, 3, 4]"
            ]
          },
          "metadata": {},
          "execution_count": 8
        }
      ]
    },
    {
      "cell_type": "code",
      "metadata": {
        "colab": {
          "base_uri": "https://localhost:8080/"
        },
        "id": "5RWnIXxMHn5c",
        "outputId": "1f813b7c-b61f-4c65-a747-d8d279b3cacf"
      },
      "source": [
        "thislist = [\"apple\", \"banana\", \"cherry\"]\n",
        "thislist[1:2] = [\"blackcurrant\", \"watermelon\", 'omar'] \n",
        "print(thislist)"
      ],
      "execution_count": null,
      "outputs": [
        {
          "output_type": "stream",
          "name": "stdout",
          "text": [
            "['apple', 'blackcurrant', 'watermelon', 'omar', 'cherry']\n"
          ]
        }
      ]
    },
    {
      "cell_type": "code",
      "metadata": {
        "colab": {
          "base_uri": "https://localhost:8080/"
        },
        "id": "5Cl914lhJRDR",
        "outputId": "618f142c-2d4f-4eaa-ed7a-15c532f52037"
      },
      "source": [
        "thislist.pop(1)\n",
        "thislist"
      ],
      "execution_count": null,
      "outputs": [
        {
          "output_type": "execute_result",
          "data": {
            "text/plain": [
              "['apple', 'watermelon', 'omar', 'cherry']"
            ]
          },
          "metadata": {},
          "execution_count": 15
        }
      ]
    },
    {
      "cell_type": "code",
      "metadata": {
        "colab": {
          "base_uri": "https://localhost:8080/",
          "height": 37
        },
        "id": "48HwUdvAJ67g",
        "outputId": "f5d8b899-1dd7-4e19-f003-b375c985b821"
      },
      "source": [
        "thislist.remove('omar') #remove the item....\n",
        "thislist.pop(0) #remove the itemd indixe...."
      ],
      "execution_count": null,
      "outputs": [
        {
          "output_type": "execute_result",
          "data": {
            "application/vnd.google.colaboratory.intrinsic+json": {
              "type": "string"
            },
            "text/plain": [
              "'apple'"
            ]
          },
          "metadata": {},
          "execution_count": 16
        }
      ]
    },
    {
      "cell_type": "code",
      "metadata": {
        "colab": {
          "base_uri": "https://localhost:8080/"
        },
        "id": "hH36IHJMKJTm",
        "outputId": "427de417-4fbd-4e80-d798-0087d7fed62e"
      },
      "source": [
        "thislist"
      ],
      "execution_count": null,
      "outputs": [
        {
          "output_type": "execute_result",
          "data": {
            "text/plain": [
              "['watermelon', 'cherry']"
            ]
          },
          "metadata": {},
          "execution_count": 17
        }
      ]
    },
    {
      "cell_type": "code",
      "metadata": {
        "colab": {
          "base_uri": "https://localhost:8080/"
        },
        "id": "WFy9adndKR0H",
        "outputId": "dc642a6f-cf2b-4f5a-80e2-c18925d24b2a"
      },
      "source": [
        "thislist = [\"apple\", \"banana\", \"cherry\"]\n",
        "thislist.clear()\n",
        "print(thislist)"
      ],
      "execution_count": null,
      "outputs": [
        {
          "output_type": "stream",
          "name": "stdout",
          "text": [
            "[]\n"
          ]
        }
      ]
    },
    {
      "cell_type": "code",
      "metadata": {
        "id": "VDcWRBxBKsn3"
      },
      "source": [
        "# append(item at the end), inset(index, item), list.extend(list2)\n",
        "# remove(item), pop(index), list.clear() \n",
        "# del \"can delete an item or a complete list\n",
        "ahmed = [1,2]\n",
        "del ahmed[0]\n",
        "del ahmed"
      ],
      "execution_count": null,
      "outputs": []
    },
    {
      "cell_type": "code",
      "metadata": {
        "colab": {
          "base_uri": "https://localhost:8080/"
        },
        "id": "TKKLw0PqOS6v",
        "outputId": "bb42c6c6-d8eb-45a0-a73c-630da3c79597"
      },
      "source": [
        "fruits = [\"apple\", \"Banana\", \"cherry\", \"kiwi\", \"mango\"]\n",
        "newlist = []\n",
        "\n",
        "for x in fruits:\n",
        "  if \"a\" in x:\n",
        "    newlist.append(x)\n",
        "\n",
        "print(newlist)"
      ],
      "execution_count": null,
      "outputs": [
        {
          "output_type": "stream",
          "name": "stdout",
          "text": [
            "['apple', 'Banana', 'mango']\n"
          ]
        }
      ]
    },
    {
      "cell_type": "code",
      "metadata": {
        "colab": {
          "base_uri": "https://localhost:8080/"
        },
        "id": "bg4shxQ8Sjcf",
        "outputId": "4fad29c5-abd4-412d-f9b2-abfba28ce876"
      },
      "source": [
        "fruits.sort()\n",
        "fruits #upper first :("
      ],
      "execution_count": null,
      "outputs": [
        {
          "output_type": "execute_result",
          "data": {
            "text/plain": [
              "['Banana', 'apple', 'cherry', 'kiwi', 'mango']"
            ]
          },
          "metadata": {},
          "execution_count": 30
        }
      ]
    },
    {
      "cell_type": "code",
      "metadata": {
        "colab": {
          "base_uri": "https://localhost:8080/"
        },
        "id": "m1cLRW_gnZOs",
        "outputId": "dc897792-6699-4bbd-d5ea-5d51b18218f3"
      },
      "source": [
        "fruits.sort(key = str.lower)\n",
        "fruits"
      ],
      "execution_count": null,
      "outputs": [
        {
          "output_type": "execute_result",
          "data": {
            "text/plain": [
              "['apple', 'Banana', 'cherry', 'kiwi', 'mango']"
            ]
          },
          "metadata": {},
          "execution_count": 31
        }
      ]
    },
    {
      "cell_type": "code",
      "metadata": {
        "id": "mjqrej4Mnxmw"
      },
      "source": [
        ""
      ],
      "execution_count": null,
      "outputs": []
    }
  ]
}