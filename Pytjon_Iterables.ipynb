{
  "nbformat": 4,
  "nbformat_minor": 0,
  "metadata": {
    "colab": {
      "name": "Pytjon Iterables.ipynb",
      "provenance": [],
      "authorship_tag": "ABX9TyPathisrG1n1XKw/J3PmLkV",
      "include_colab_link": true
    },
    "kernelspec": {
      "name": "python3",
      "display_name": "Python 3"
    },
    "language_info": {
      "name": "python"
    }
  },
  "cells": [
    {
      "cell_type": "markdown",
      "metadata": {
        "id": "view-in-github",
        "colab_type": "text"
      },
      "source": [
        "<a href=\"https://colab.research.google.com/github/oaboelfetouh/tutorials/blob/main/Pytjon_Iterables.ipynb\" target=\"_parent\"><img src=\"https://colab.research.google.com/assets/colab-badge.svg\" alt=\"Open In Colab\"/></a>"
      ]
    },
    {
      "cell_type": "markdown",
      "metadata": {
        "id": "AgLL486PYUyW"
      },
      "source": [
        "# List Object"
      ]
    },
    {
      "cell_type": "code",
      "metadata": {
        "colab": {
          "base_uri": "https://localhost:8080/"
        },
        "id": "Ys7ZOWIAP6MZ",
        "outputId": "7811b21a-3da7-4724-f82d-b2c4622e97b2"
      },
      "source": [
        "#List Object\n",
        "list1 = [\"abc\", 34, True, 40, \"male\"]\n",
        "print(len(list1)) # 5\n",
        "type(list1) # list object"
      ],
      "execution_count": null,
      "outputs": [
        {
          "output_type": "stream",
          "name": "stdout",
          "text": [
            "5\n"
          ]
        },
        {
          "output_type": "execute_result",
          "data": {
            "text/plain": [
              "list"
            ]
          },
          "metadata": {},
          "execution_count": 17
        }
      ]
    },
    {
      "cell_type": "code",
      "metadata": {
        "colab": {
          "base_uri": "https://localhost:8080/"
        },
        "id": "EkQlxUXwQLgc",
        "outputId": "df8e226d-2b04-4c6c-cbb8-c8aa149acdca"
      },
      "source": [
        "# access the list items:\n",
        " \n",
        "print(list1[1]) #[the index]\n",
        "print(list1[-1]) # the last item in the list\n",
        "print(list1[0:2]) # a range of index-es\n",
        "print(list1[:]) # selct all the items in the list\n",
        "\n",
        "print(list1[:3]) # all before index 3.... index 3 IS NOT included\n",
        "print(list1[3:]) # index 3 + all after.... index 3 IS included\n",
        "\n",
        "list1[:3] + list1[3:] # equals the list itself "
      ],
      "execution_count": null,
      "outputs": [
        {
          "output_type": "stream",
          "name": "stdout",
          "text": [
            "34\n",
            "male\n",
            "['omar', 34]\n",
            "['omar', 34, 'index2', 'index3', 'male']\n",
            "['omar', 34, 'index2']\n",
            "['index3', 'male']\n"
          ]
        },
        {
          "output_type": "execute_result",
          "data": {
            "text/plain": [
              "['omar', 34, 'index2', 'index3', 'male']"
            ]
          },
          "metadata": {},
          "execution_count": 20
        }
      ]
    },
    {
      "cell_type": "code",
      "metadata": {
        "colab": {
          "base_uri": "https://localhost:8080/"
        },
        "id": "w7vmlZovRsZd",
        "outputId": "cae7cec9-880f-453a-ad95-3159a2933d1d"
      },
      "source": [
        "#changing the list items: \n",
        "\n",
        "list1[0] = 'omar'\n",
        "list1[2:4] = ['index2', 'index3']\n",
        "\n",
        "print(list1, \", this list of length \",len(list1)) "
      ],
      "execution_count": null,
      "outputs": [
        {
          "output_type": "stream",
          "name": "stdout",
          "text": [
            "['omar', 34, 'index2', 'index3', 'male'] , this list of length  5\n"
          ]
        }
      ]
    },
    {
      "cell_type": "code",
      "metadata": {
        "id": "hTEQPlhmSj0c"
      },
      "source": [
        "# adding items to the list\n",
        "list1.insert(2, \"hi there iam using whatsapp\") # insert in the index X , the item X\n",
        "\n",
        "list1. append(\"iam in the laaaaast position\") # adding items in the last position (useful with for loops)"
      ],
      "execution_count": null,
      "outputs": []
    },
    {
      "cell_type": "code",
      "metadata": {
        "colab": {
          "base_uri": "https://localhost:8080/"
        },
        "id": "P0cnDWlqTy4M",
        "outputId": "a7b23d0e-0294-433f-cf2d-f096c72623b3"
      },
      "source": [
        "#stick 2 lists together\n",
        "list_1 = [1,2,3,\"omar\"]\n",
        "list_2 = [1,2,3,\"ahmed\"]\n",
        "list_1.extend(list_2) # NOTICE: inside the extend() method, we can use any kind of Iterable\n",
        "list_1"
      ],
      "execution_count": null,
      "outputs": [
        {
          "output_type": "execute_result",
          "data": {
            "text/plain": [
              "[1, 2, 3, 'omar', 1, 2, 3, 'ahmed']"
            ]
          },
          "metadata": {},
          "execution_count": 29
        }
      ]
    },
    {
      "cell_type": "code",
      "metadata": {
        "id": "tncbPMJfUAL9"
      },
      "source": [
        "# REMOVING items from the list \n",
        "list_1.pop(2) # with the index\n",
        "list_1.remove(\"omar\") # with the itemd "
      ],
      "execution_count": null,
      "outputs": []
    },
    {
      "cell_type": "code",
      "metadata": {
        "colab": {
          "base_uri": "https://localhost:8080/"
        },
        "id": "UDNcE7_wUdxR",
        "outputId": "62358b2d-4853-48eb-c16f-7293a63d8edb"
      },
      "source": [
        "# iterating trhough a list :\n",
        "list_10 = ['omar', 'ahamed', 'mohamed', 'ali']\n",
        "\n",
        "for i in list_10:\n",
        "  print(i) # i is the item itself\n",
        "\n",
        "print()\n",
        "print('first loop is done')\n",
        "print()\n",
        "\n",
        "for i in range(len(list_10)):\n",
        "  print(list_10[i]) # i is the index"
      ],
      "execution_count": null,
      "outputs": [
        {
          "output_type": "stream",
          "name": "stdout",
          "text": [
            "omar\n",
            "ahamed\n",
            "mohamed\n",
            "ali\n",
            "\n",
            "first loop is done\n",
            "\n",
            "omar\n",
            "ahamed\n",
            "mohamed\n",
            "ali\n"
          ]
        }
      ]
    },
    {
      "cell_type": "code",
      "metadata": {
        "colab": {
          "base_uri": "https://localhost:8080/"
        },
        "id": "NWfSTG75VPJH",
        "outputId": "7530bfa5-a43d-4be5-ae54-537ba4b9acce"
      },
      "source": [
        "# list Comprehension\n",
        "list_20 = [i for i in range(5)] #[0,1,2,3,4]\n",
        "list_20 = [i**2 for i in range(5)] #[0,1,4,9,16]\n",
        "list_20 = [list1 for i in range(5)] #[list1, list1, list1, list1, list1]\n",
        "\n",
        "newlist = [x for x in range(10) if x < 5] # VERY IMPORTANT!\n",
        "newlist"
      ],
      "execution_count": null,
      "outputs": [
        {
          "output_type": "execute_result",
          "data": {
            "text/plain": [
              "[0, 1, 2, 3, 4]"
            ]
          },
          "metadata": {},
          "execution_count": 37
        }
      ]
    },
    {
      "cell_type": "code",
      "metadata": {
        "colab": {
          "base_uri": "https://localhost:8080/"
        },
        "id": "wswZZhyqXABL",
        "outputId": "9dda2e94-7782-476d-b449-82f33cdaf86d"
      },
      "source": [
        "#sorting lists:\n",
        "thislist = [\"orange\", \"mango\", \"kiwi\", \"pineapple\", \"banana\"]\n",
        "thislist.sort()\n",
        "print(thislist)"
      ],
      "execution_count": null,
      "outputs": [
        {
          "output_type": "stream",
          "name": "stdout",
          "text": [
            "['banana', 'kiwi', 'mango', 'orange', 'pineapple']\n"
          ]
        }
      ]
    },
    {
      "cell_type": "code",
      "metadata": {
        "colab": {
          "base_uri": "https://localhost:8080/"
        },
        "id": "qs1Zkd-cW_kx",
        "outputId": "ca0e2202-4983-4c51-93cb-4a8be8c6d8b3"
      },
      "source": [
        "thislist = [100, 50, 65, 82, 23]\n",
        "thislist.sort()\n",
        "print(thislist)"
      ],
      "execution_count": null,
      "outputs": [
        {
          "output_type": "stream",
          "name": "stdout",
          "text": [
            "[23, 50, 65, 82, 100]\n"
          ]
        }
      ]
    },
    {
      "cell_type": "code",
      "metadata": {
        "colab": {
          "base_uri": "https://localhost:8080/"
        },
        "id": "57wkJKfNXN2W",
        "outputId": "35242152-d7fb-4b9a-a4ac-4ad568a7b671"
      },
      "source": [
        "thislist = [\"orange\", \"mango\", \"kiwi\", \"pineapple\", \"banana\"]\n",
        "thislist.sort(reverse = True)\n",
        "print(thislist)"
      ],
      "execution_count": null,
      "outputs": [
        {
          "output_type": "stream",
          "name": "stdout",
          "text": [
            "['pineapple', 'orange', 'mango', 'kiwi', 'banana']\n"
          ]
        }
      ]
    },
    {
      "cell_type": "code",
      "metadata": {
        "colab": {
          "base_uri": "https://localhost:8080/"
        },
        "id": "6pnmMecJXP43",
        "outputId": "074cc3a0-eb57-40e0-dd50-e52b0175a329"
      },
      "source": [
        "thislist = [100, 50, 65, 82, 23]\n",
        "thislist.sort(reverse = True)\n",
        "print(thislist)"
      ],
      "execution_count": null,
      "outputs": [
        {
          "output_type": "stream",
          "name": "stdout",
          "text": [
            "[100, 82, 65, 50, 23]\n"
          ]
        }
      ]
    },
    {
      "cell_type": "markdown",
      "metadata": {
        "id": "mQm1zNUEX03_"
      },
      "source": [
        "**very important**"
      ]
    },
    {
      "cell_type": "code",
      "metadata": {
        "colab": {
          "base_uri": "https://localhost:8080/"
        },
        "id": "Iwkzdg3nXS3-",
        "outputId": "c720a95c-afb5-4fbc-bb31-c1cbe539c99c"
      },
      "source": [
        "list1 = [1,2,3]\n",
        "list2 = list1\n",
        "\n",
        "list1.append('hi')\n",
        "print(list2) #list2 has changed!! -I edited list1 in the previous line!!\n",
        "print(list1 is list2) # the same place in the memory!"
      ],
      "execution_count": null,
      "outputs": [
        {
          "output_type": "stream",
          "name": "stdout",
          "text": [
            "[1, 2, 3, 'hi']\n",
            "True\n"
          ]
        }
      ]
    },
    {
      "cell_type": "code",
      "metadata": {
        "colab": {
          "base_uri": "https://localhost:8080/"
        },
        "id": "9s0RWxH9Xg8q",
        "outputId": "131be858-ffe7-4933-a84b-aa8b5912a9fc"
      },
      "source": [
        "list1 = [1,2,3]\n",
        "list2 = list1.copy() # I created a copy \n",
        "\n",
        "list1.append('hi')\n",
        "print(list2) #list2 JAS NOT changed!! -I edited list1 in the previous line\n",
        "print(list1 is list2) # NOT the same place in the memory!"
      ],
      "execution_count": null,
      "outputs": [
        {
          "output_type": "stream",
          "name": "stdout",
          "text": [
            "[1, 2, 3]\n",
            "False\n"
          ]
        }
      ]
    },
    {
      "cell_type": "markdown",
      "metadata": {
        "id": "e_b5NafQYajH"
      },
      "source": [
        "# Dictionary"
      ]
    },
    {
      "cell_type": "code",
      "metadata": {
        "id": "EaxxjlgiYfn9"
      },
      "source": [
        "thisdict = {\n",
        "  \"brand\": \"Ford\",\n",
        "  \"model\": \"Mustang\",\n",
        "  \"year\": 1964\n",
        "}"
      ],
      "execution_count": 45,
      "outputs": []
    },
    {
      "cell_type": "code",
      "metadata": {
        "colab": {
          "base_uri": "https://localhost:8080/"
        },
        "id": "HEz5bGqtYi3N",
        "outputId": "7923cc76-e945-40e0-fd92-5bbea9076191"
      },
      "source": [
        "# access the Items of the dictionary\n",
        "print(thisdict.keys())\n",
        "print(thisdict.values())\n",
        "\n",
        "print()\n",
        "print(thisdict.items())"
      ],
      "execution_count": 50,
      "outputs": [
        {
          "output_type": "stream",
          "name": "stdout",
          "text": [
            "dict_keys(['brand', 'model', 'year'])\n",
            "dict_values(['Ford', 'Mustang', 1964])\n",
            "\n",
            "dict_items([('brand', 'Ford'), ('model', 'Mustang'), ('year', 1964)])\n"
          ]
        }
      ]
    },
    {
      "cell_type": "code",
      "metadata": {
        "colab": {
          "base_uri": "https://localhost:8080/",
          "height": 37
        },
        "id": "WZyHLdY_ZNRk",
        "outputId": "31097af6-e2f4-48af-a5df-b4c3aa87b9ab"
      },
      "source": [
        "x = thisdict[\"brand\"] #[the key] , returns the value of this key\n",
        "x "
      ],
      "execution_count": 49,
      "outputs": [
        {
          "output_type": "execute_result",
          "data": {
            "application/vnd.google.colaboratory.intrinsic+json": {
              "type": "string"
            },
            "text/plain": [
              "'Ford'"
            ]
          },
          "metadata": {},
          "execution_count": 49
        }
      ]
    },
    {
      "cell_type": "code",
      "metadata": {
        "id": "ygDwWLkYZewi"
      },
      "source": [
        "#changing items\n",
        "thisdict[\"year\"] = 2018\n",
        "# or\n",
        "thisdict.update({\"year\": 2020})   #update (entire dictionary having the same key)\n"
      ],
      "execution_count": 51,
      "outputs": []
    },
    {
      "cell_type": "code",
      "metadata": {
        "id": "_r_3hfBZaEAw"
      },
      "source": [
        "#adding items\n",
        "thisdict['omar'] = 19\n",
        "thisdict \n",
        "\n",
        "# or\n",
        "thisdict.update({\"ahmed\": 19}) "
      ],
      "execution_count": 54,
      "outputs": []
    },
    {
      "cell_type": "code",
      "metadata": {
        "colab": {
          "base_uri": "https://localhost:8080/"
        },
        "id": "PoSgADQUaJtW",
        "outputId": "e22ce645-2ddd-454f-f21c-b0f955e18813"
      },
      "source": [
        "# REMOVE\n",
        "thisdict.pop('omar') # the key"
      ],
      "execution_count": 56,
      "outputs": [
        {
          "output_type": "execute_result",
          "data": {
            "text/plain": [
              "19"
            ]
          },
          "metadata": {},
          "execution_count": 56
        }
      ]
    },
    {
      "cell_type": "code",
      "metadata": {
        "colab": {
          "base_uri": "https://localhost:8080/"
        },
        "id": "if8az5sqahxm",
        "outputId": "8f54bc65-a414-4d21-a91a-87e71a25fdef"
      },
      "source": [
        "# loops in dictionaries\n",
        "thisdict = {\n",
        "  \"brand\": \"Ford\",\n",
        "  \"model\": \"Mustang\",\n",
        "  \"year\": 1964\n",
        "}\n",
        "\n",
        "for i in thisdict:\n",
        "  print(i) # i is the keys by default\n",
        "\n",
        "print()\n",
        "for i in thisdict.keys():\n",
        "  print(i)\n",
        "\n",
        "print()\n",
        "for i in thisdict.values():\n",
        "  print(i)\n",
        "\n",
        "print()\n",
        "for i,j in thisdict.items():\n",
        "  print(i, \" is the key, \", j , \" is the value\")"
      ],
      "execution_count": 59,
      "outputs": [
        {
          "output_type": "stream",
          "name": "stdout",
          "text": [
            "brand\n",
            "model\n",
            "year\n",
            "\n",
            "brand\n",
            "model\n",
            "year\n",
            "\n",
            "Ford\n",
            "Mustang\n",
            "1964\n",
            "\n",
            "brand  is the key,  Ford  is the value\n",
            "model  is the key,  Mustang  is the value\n",
            "year  is the key,  1964  is the value\n"
          ]
        }
      ]
    },
    {
      "cell_type": "code",
      "metadata": {
        "colab": {
          "base_uri": "https://localhost:8080/"
        },
        "id": "NbVvr-Ssa5Kw",
        "outputId": "7438251c-2daa-4c06-e156-5994dbd29c31"
      },
      "source": [
        "# copying the dict is the same as the list\n",
        "thisdict = {\n",
        "  \"brand\": \"Ford\",\n",
        "  \"model\": \"Mustang\",\n",
        "  \"year\": 1964\n",
        "}\n",
        "mydict = thisdict.copy() # we created a copy\n",
        "print(mydict is thisdict)"
      ],
      "execution_count": 60,
      "outputs": [
        {
          "output_type": "stream",
          "name": "stdout",
          "text": [
            "False\n"
          ]
        }
      ]
    },
    {
      "cell_type": "markdown",
      "metadata": {
        "id": "oMSJiH16btF4"
      },
      "source": [
        "# Tubles "
      ]
    },
    {
      "cell_type": "code",
      "metadata": {
        "colab": {
          "base_uri": "https://localhost:8080/"
        },
        "id": "01kt154XbxIn",
        "outputId": "9dff043c-2ec2-4e38-d6ad-e9cdc5ca8097"
      },
      "source": [
        "x = (1,2,3,4)\n",
        "\n",
        "#tubles are the same as lists BUUUUTTTTT:\n",
        "try : \n",
        "  x.append(5) #that will raise an error\n",
        "except :\n",
        "   print (\"tubles are not changable!!\")"
      ],
      "execution_count": 68,
      "outputs": [
        {
          "output_type": "stream",
          "name": "stdout",
          "text": [
            "tubles are not changable!!\n"
          ]
        }
      ]
    },
    {
      "cell_type": "markdown",
      "metadata": {
        "id": "eFU_O_7zcfVH"
      },
      "source": [
        "# Sets"
      ]
    },
    {
      "cell_type": "code",
      "metadata": {
        "id": "FX9HCcugcHgs"
      },
      "source": [
        "myset = {1,2,3,4}\n",
        "\n",
        "# Sets are the same as lists BUUUTT : No Duplications!\n",
        "\n",
        "myset.add('ahmed') \n",
        "myset.remove('ahmed')"
      ],
      "execution_count": 69,
      "outputs": []
    }
  ]
}