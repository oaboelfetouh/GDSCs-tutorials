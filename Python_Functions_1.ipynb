{
  "nbformat": 4,
  "nbformat_minor": 0,
  "metadata": {
    "colab": {
      "name": "Python Functions_1.ipynb",
      "provenance": [],
      "authorship_tag": "ABX9TyPZkR0ltYofqQflzjCsKt35",
      "include_colab_link": true
    },
    "kernelspec": {
      "name": "python3",
      "display_name": "Python 3"
    },
    "language_info": {
      "name": "python"
    }
  },
  "cells": [
    {
      "cell_type": "markdown",
      "metadata": {
        "id": "view-in-github",
        "colab_type": "text"
      },
      "source": [
        "<a href=\"https://colab.research.google.com/github/oaboelfetouh/tutorials/blob/main/Python_Functions_1.ipynb\" target=\"_parent\"><img src=\"https://colab.research.google.com/assets/colab-badge.svg\" alt=\"Open In Colab\"/></a>"
      ]
    },
    {
      "cell_type": "code",
      "metadata": {
        "colab": {
          "base_uri": "https://localhost:8080/"
        },
        "id": "IYaTJVbPZW4U",
        "outputId": "31aae114-1dcb-4dc7-d9fe-0daef68d2159"
      },
      "source": [
        "#lambda expression is an easy way to create a function\n",
        "x = lambda a : a**2  # lambda Parameters : Returns\n",
        "x(2) #YOU HAVE TO ASSIGN THE LAMBDA EXPRESSION TO A VARIABLE"
      ],
      "execution_count": 1,
      "outputs": [
        {
          "output_type": "execute_result",
          "data": {
            "text/plain": [
              "4"
            ]
          },
          "metadata": {},
          "execution_count": 1
        }
      ]
    },
    {
      "cell_type": "code",
      "metadata": {
        "colab": {
          "base_uri": "https://localhost:8080/"
        },
        "id": "KkmAoGqKZfi6",
        "outputId": "db9697be-1a2b-4bdb-8ecc-6ef36922b509"
      },
      "source": [
        "def cool_function(a):\n",
        "  return a**2\n",
        "\n",
        "cool_function(2)"
      ],
      "execution_count": 2,
      "outputs": [
        {
          "output_type": "execute_result",
          "data": {
            "text/plain": [
              "4"
            ]
          },
          "metadata": {},
          "execution_count": 2
        }
      ]
    },
    {
      "cell_type": "code",
      "metadata": {
        "colab": {
          "base_uri": "https://localhost:8080/"
        },
        "id": "k2hEFLDQZnN_",
        "outputId": "59b38668-a01f-4a98-e70b-fef69f22e51a"
      },
      "source": [
        "def cool_function(a,b):\n",
        "  return a*b\n",
        "print(\"the function by def : \", cool_function(3,5))\n",
        "\n",
        "x = lambda a,b : a*b \n",
        "print (\"the function by lambda\",x(3,5))\n"
      ],
      "execution_count": 3,
      "outputs": [
        {
          "output_type": "stream",
          "name": "stdout",
          "text": [
            "the function by def :  15\n"
          ]
        },
        {
          "output_type": "execute_result",
          "data": {
            "text/plain": [
              "15"
            ]
          },
          "metadata": {},
          "execution_count": 3
        }
      ]
    },
    {
      "cell_type": "code",
      "metadata": {
        "colab": {
          "base_uri": "https://localhost:8080/"
        },
        "id": "cXRN08PdaFI6",
        "outputId": "36998de7-1498-4e77-cd0f-ca13b902b8b2"
      },
      "source": [
        "# notice... \n",
        "def aa(a ,a1):\n",
        "  x1 = a + a1\n",
        "  x2 = a * a1\n",
        "  return x1,x2\n",
        "\n",
        "x = aa(5,5) # the function returns tow numbers, we assigned both to a single varaible, SO...\n",
        "print(type(x)) # SO... they type is Tuple :D\n",
        "print(x)\n",
        "\n",
        "\n",
        "#select the first item of the tuple\n",
        "print(x[0])\n",
        "\n",
        "#OR...\n",
        "x, y = aa(5,6) # we know that the returns are 2, so we assigned the function to 2 variables\n"
      ],
      "execution_count": 9,
      "outputs": [
        {
          "output_type": "stream",
          "name": "stdout",
          "text": [
            "<class 'tuple'>\n",
            "(10, 25)\n"
          ]
        },
        {
          "output_type": "execute_result",
          "data": {
            "text/plain": [
              "10"
            ]
          },
          "metadata": {},
          "execution_count": 9
        }
      ]
    },
    {
      "cell_type": "code",
      "metadata": {
        "colab": {
          "base_uri": "https://localhost:8080/"
        },
        "id": "XV3uKhHqbTCj",
        "outputId": "d7f36e17-7f40-4f94-9745-646faa585621"
      },
      "source": [
        "# important Problems\n",
        "for i in range(1,5): # for loop responsible for the rows\n",
        "  for j in range(i):  # for loops responsible for the column\n",
        "    print(i,\" \", end = '') # end = \" \" prints the next iteration in the same line\n",
        "  print() # empty print to move to a new line"
      ],
      "execution_count": 14,
      "outputs": [
        {
          "output_type": "stream",
          "name": "stdout",
          "text": [
            "1  \n",
            "2  2  \n",
            "3  3  3  \n",
            "4  4  4  4  \n"
          ]
        }
      ]
    },
    {
      "cell_type": "code",
      "metadata": {
        "colab": {
          "base_uri": "https://localhost:8080/"
        },
        "id": "aNroUZj6bYkJ",
        "outputId": "d86859f3-3e96-4f87-957b-bad4758c98b5"
      },
      "source": [
        "# string object\n",
        "print(\"ahmed\" + \"hhhhhh\") # concatinate 2 strings\n",
        "print(\"ahmed\"[3]) # the string object is indexed :))\n",
        "\n",
        "print()\n",
        "print(\"ahmed\"[::-1]) # reverse a string "
      ],
      "execution_count": 18,
      "outputs": [
        {
          "output_type": "stream",
          "name": "stdout",
          "text": [
            "ahmedhhhhhh\n",
            "e\n",
            "\n",
            "demha\n"
          ]
        }
      ]
    },
    {
      "cell_type": "code",
      "metadata": {
        "colab": {
          "base_uri": "https://localhost:8080/"
        },
        "id": "hgVYoRPRcAKF",
        "outputId": "260f184a-8790-4427-dd66-3e0ec8b14605"
      },
      "source": [
        "#reversing a list\n",
        "listyyy = [1,2,3,4,5,6666]\n",
        "listyyy[::-1] # 7fz"
      ],
      "execution_count": 19,
      "outputs": [
        {
          "output_type": "execute_result",
          "data": {
            "text/plain": [
              "[6666, 5, 4, 3, 2, 1]"
            ]
          },
          "metadata": {},
          "execution_count": 19
        }
      ]
    }
  ]
}