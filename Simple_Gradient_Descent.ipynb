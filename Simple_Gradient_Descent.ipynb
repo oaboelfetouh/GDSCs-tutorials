{
  "nbformat": 4,
  "nbformat_minor": 0,
  "metadata": {
    "colab": {
      "name": "Simple Gradient Descent.ipynb",
      "provenance": [],
      "authorship_tag": "ABX9TyOiVUwx1UvQVv8PCl3f07dS",
      "include_colab_link": true
    },
    "kernelspec": {
      "name": "python3",
      "display_name": "Python 3"
    },
    "language_info": {
      "name": "python"
    }
  },
  "cells": [
    {
      "cell_type": "markdown",
      "metadata": {
        "id": "view-in-github",
        "colab_type": "text"
      },
      "source": [
        "<a href=\"https://colab.research.google.com/github/oaboelfetouh/tutorials/blob/main/Simple_Gradient_Descent.ipynb\" target=\"_parent\"><img src=\"https://colab.research.google.com/assets/colab-badge.svg\" alt=\"Open In Colab\"/></a>"
      ]
    },
    {
      "cell_type": "markdown",
      "metadata": {
        "id": "nisU-tlSkcOZ"
      },
      "source": [
        "The Object of this exercise it to find the lowest value of a function F(x), and the corresponding value of x of this function.\n",
        "\n",
        "Using the Gradient Descent"
      ]
    },
    {
      "cell_type": "code",
      "metadata": {
        "colab": {
          "base_uri": "https://localhost:8080/",
          "height": 299
        },
        "id": "gLiNmsindqrM",
        "outputId": "940be0bd-9683-4e89-c4be-d20909202fb8"
      },
      "source": [
        "#the math function we want to apply gradient descent on : y = (x)^2 \n",
        "import matplotlib.pyplot as plt\n",
        "\n",
        "X = list(range(-10,11))\n",
        "y = [((x)**2 ) for x in X ]\n",
        "print(y)\n",
        "plt.plot(X, y)"
      ],
      "execution_count": 76,
      "outputs": [
        {
          "output_type": "stream",
          "name": "stdout",
          "text": [
            "[100, 81, 64, 49, 36, 25, 16, 9, 4, 1, 0, 1, 4, 9, 16, 25, 36, 49, 64, 81, 100]\n"
          ]
        },
        {
          "output_type": "execute_result",
          "data": {
            "text/plain": [
              "[<matplotlib.lines.Line2D at 0x7f066025cb10>]"
            ]
          },
          "metadata": {},
          "execution_count": 76
        },
        {
          "output_type": "display_data",
          "data": {
            "image/png": "[encoded data removed]",
            "text/plain": [
              "<Figure size 432x288 with 1 Axes>"
            ]
          },
          "metadata": {
            "needs_background": "light"
          }
        }
      ]
    },
    {
      "cell_type": "code",
      "metadata": {
        "colab": {
          "base_uri": "https://localhost:8080/",
          "height": 486
        },
        "id": "iw18DOHieAw8",
        "outputId": "548dabf8-3fce-4c57-e082-aadeb59cb7cc"
      },
      "source": [
        "# get the derivative of the function manually:   y' =  2(x+1)\n",
        "# then apply the gradient descent formula:  X = X - learning_rate * dF/dX\n",
        "# descide the number of iteration ( not too large not too small )\n",
        "\n",
        "import numpy\n",
        "x = numpy.random.randint(-100,100)\n",
        "if x == 0 : x = 6\n",
        "print(f\"the first x is {x}\") # random initialize the x\n",
        "learning_rate = 0.2\n",
        "print()\n",
        "\n",
        "X_ = []\n",
        "Y_ = []\n",
        "for i in range(5):\n",
        "  dx = 2*(x)\n",
        "  print(\"dx is : \", dx)\n",
        "  x = x - learning_rate * dx\n",
        "  y = ((x)**2 ) # calc the y to see the change\n",
        "  print(f\"for x equals to {x} , the y equals to {y}\")\n",
        "  X_.append(x)\n",
        "  Y_.append(y)\n",
        "\n",
        "\n",
        "plt.scatter(X_, Y_)\n",
        "print(f\"the final value of the function is {y}, the corresponding x is {x}\")"
      ],
      "execution_count": 82,
      "outputs": [
        {
          "output_type": "stream",
          "name": "stdout",
          "text": [
            "the first x is 84\n",
            "\n",
            "dx is :  168\n",
            "for x equals to 50.4 , the y equals to 2540.16\n",
            "dx is :  100.8\n",
            "for x equals to 30.24 , the y equals to 914.4576\n",
            "dx is :  60.48\n",
            "for x equals to 18.144 , the y equals to 329.20473599999997\n",
            "dx is :  36.288\n",
            "for x equals to 10.886399999999998 , the y equals to 118.51370495999997\n",
            "dx is :  21.772799999999997\n",
            "for x equals to 6.531839999999999 , the y equals to 42.664933785599985\n",
            "the final value of the function is 42.664933785599985, the corresponding x is 6.531839999999999\n"
          ]
        },
        {
          "output_type": "display_data",
          "data": {
            "image/png": "[encoded data removed]",
            "text/plain": [
              "<Figure size 432x288 with 1 Axes>"
            ]
          },
          "metadata": {
            "needs_background": "light"
          }
        }
      ]
    }
  ]
}